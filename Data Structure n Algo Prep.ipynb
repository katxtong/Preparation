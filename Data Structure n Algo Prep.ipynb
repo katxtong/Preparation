{
 "cells": [
  {
   "cell_type": "code",
   "execution_count": null,
   "id": "43970cd7",
   "metadata": {},
   "outputs": [],
   "source": [
    "\"\"\"\n",
    "\"\"\""
   ]
  },
  {
   "cell_type": "code",
   "execution_count": 14,
   "id": "884daa50",
   "metadata": {},
   "outputs": [
    {
     "data": {
      "text/plain": [
       "2"
      ]
     },
     "execution_count": 14,
     "metadata": {},
     "output_type": "execute_result"
    }
   ],
   "source": [
    "queue = []\n",
    "queue.append(2)\n",
    "queue.pop()"
   ]
  },
  {
   "cell_type": "code",
   "execution_count": 15,
   "id": "2fd91a78",
   "metadata": {},
   "outputs": [
    {
     "data": {
      "text/plain": [
       "[]"
      ]
     },
     "execution_count": 15,
     "metadata": {},
     "output_type": "execute_result"
    }
   ],
   "source": [
    "queue"
   ]
  },
  {
   "cell_type": "code",
   "execution_count": 17,
   "id": "91eaf11d",
   "metadata": {},
   "outputs": [
    {
     "data": {
      "text/plain": [
       "False"
      ]
     },
     "execution_count": 17,
     "metadata": {},
     "output_type": "execute_result"
    }
   ],
   "source": [
    "queue == None"
   ]
  },
  {
   "cell_type": "code",
   "execution_count": 19,
   "id": "fe945272",
   "metadata": {},
   "outputs": [
    {
     "name": "stdout",
     "output_type": "stream",
     "text": [
      "[1, 2, 3, 4, 5, 6, 7, 8, 9]\n"
     ]
    }
   ],
   "source": [
    "vec = [[1,2,3], [4,5,6], [7,8,9]]\n",
    "vec2 = [num for elem in vec for num in elem]\n",
    "print(vec2)"
   ]
  },
  {
   "cell_type": "code",
   "execution_count": 22,
   "id": "8275a4d0",
   "metadata": {},
   "outputs": [
    {
     "name": "stdout",
     "output_type": "stream",
     "text": [
      "[[1, 5, 9], [2, 6, 10], [3, 7, 11], [4, 8, 12]]\n"
     ]
    }
   ],
   "source": [
    "matrix = [\n",
    "    [1, 2, 3, 4],\n",
    "    [5, 6, 7, 8],\n",
    "    [9, 10, 11, 12],\n",
    "]\n",
    "matrixt = [[row[i] for row in matrix] for i in range(4)]\n",
    "print(matrixt)"
   ]
  },
  {
   "cell_type": "code",
   "execution_count": null,
   "id": "6c678f3b",
   "metadata": {},
   "outputs": [],
   "source": [
    "# tuples are immutable\n",
    "# use t = 'a', 'b', 123\n"
   ]
  },
  {
   "cell_type": "code",
   "execution_count": null,
   "id": "d28d93e8",
   "metadata": {},
   "outputs": [],
   "source": [
    "# sets are unordered collection with no duplicate elements\n",
    "# use set()\n",
    "# also support list comprehension, use {i for i in setx}"
   ]
  },
  {
   "cell_type": "code",
   "execution_count": 23,
   "id": "b1a71bd4",
   "metadata": {},
   "outputs": [
    {
     "name": "stdout",
     "output_type": "stream",
     "text": [
      "0 1\n",
      "0 -1\n",
      "1 0\n",
      "-1 0\n"
     ]
    }
   ],
   "source": [
    "for i, j, in [(0, 1), (0, -1), (1, 0), (-1, 0)]:\n",
    "    print(i, j)"
   ]
  },
  {
   "cell_type": "code",
   "execution_count": null,
   "id": "d9a29287",
   "metadata": {},
   "outputs": [],
   "source": []
  },
  {
   "cell_type": "code",
   "execution_count": 13,
   "id": "cd9ae453",
   "metadata": {},
   "outputs": [
    {
     "data": {
      "text/plain": [
       "'\\nVALID TREE\\nGiven n nodes labeled from 0 to n-1 and a list of undirected edges (each edge is a pair of nodes), write a function to check whether these edges make up a valid tree.\\n\\nExample 1:\\n\\nInput: n = 5, and edges = [[0,1], [0,2], [0,3], [1,4]]\\nOutput: true\\nExample 2:\\n\\nInput: n = 5, and edges = [[0,1], [1,2], [2,3], [1,3], [1,4]]\\nOutput: false\\nNote: you can assume that no duplicate edges will appear in edges. Since all edges are undirected, [0,1] is the same as [1,0] and thus will not appear together in edges.\\n'"
      ]
     },
     "execution_count": 13,
     "metadata": {},
     "output_type": "execute_result"
    }
   ],
   "source": [
    "\"\"\"\n",
    "VALID TREE\n",
    "Given n nodes labeled from 0 to n-1 and a list of undirected edges (each edge is a pair of nodes), write a function to check whether these edges make up a valid tree.\n",
    "\n",
    "Example 1:\n",
    "\n",
    "Input: n = 5, and edges = [[0,1], [0,2], [0,3], [1,4]]\n",
    "Output: true\n",
    "Example 2:\n",
    "\n",
    "Input: n = 5, and edges = [[0,1], [1,2], [2,3], [1,3], [1,4]]\n",
    "Output: false\n",
    "Note: you can assume that no duplicate edges will appear in edges. Since all edges are undirected, [0,1] is the same as [1,0] and thus will not appear together in edges.\n",
    "\"\"\""
   ]
  },
  {
   "cell_type": "code",
   "execution_count": 53,
   "id": "9a69759a",
   "metadata": {},
   "outputs": [],
   "source": [
    "def validTree(n, edges):\n",
    "    # need dfs to see if there is a cycle in graph\n",
    "    # and if every node is connected (no islands)\n",
    "    \n",
    "    # dfs: \n",
    "    # add any node to stack, take top item of stack and add to visited list, create list of node's \n",
    "    # adjacent nodes, add the ones not visited to top of stack\n",
    "    \n",
    "    if not n:\n",
    "        return True\n",
    "    \n",
    "    lst = {i:[] for i in range(n)}\n",
    "    visited = set()\n",
    "    \n",
    "    for n1, n2 in edges:\n",
    "        lst[n1].append(n2)\n",
    "        lst[n2].append(n1)\n",
    "    \n",
    "    # print(lst)\n",
    "    \n",
    "    # my try\n",
    "    def dfs(node, prev):\n",
    "        if node in visited:\n",
    "            # print(\"false!\")\n",
    "            return False\n",
    "        \n",
    "        visited.add(node)\n",
    "        for next_node in lst[node]:\n",
    "            if next_node == prev:\n",
    "                continue\n",
    "            if not dfs(next_node, node):\n",
    "                return False # detected loop\n",
    "        return True\n",
    "    \n",
    "    ans = dfs(0, -1)\n",
    "    \n",
    "    return False if (not ans or len(visited) != n) else True"
   ]
  },
  {
   "cell_type": "code",
   "execution_count": 54,
   "id": "7f07b83c",
   "metadata": {},
   "outputs": [
    {
     "data": {
      "text/plain": [
       "False"
      ]
     },
     "execution_count": 54,
     "metadata": {},
     "output_type": "execute_result"
    }
   ],
   "source": [
    "validTree(5, [[0,1], [1,2], [2,3], [1,3], [1,4]]) # false"
   ]
  },
  {
   "cell_type": "code",
   "execution_count": 55,
   "id": "b864c758",
   "metadata": {},
   "outputs": [
    {
     "data": {
      "text/plain": [
       "True"
      ]
     },
     "execution_count": 55,
     "metadata": {},
     "output_type": "execute_result"
    }
   ],
   "source": [
    "validTree(5, [[0,1], [0,2], [0,3], [1,4]]) # true"
   ]
  },
  {
   "cell_type": "code",
   "execution_count": null,
   "id": "7e05ecac",
   "metadata": {},
   "outputs": [],
   "source": []
  },
  {
   "cell_type": "code",
   "execution_count": null,
   "id": "26e39a64",
   "metadata": {},
   "outputs": [],
   "source": [
    "\"\"\"\n",
    "Number of Connected Components in an Undirected Graph\n",
    "Given n nodes labeled from 0 to n - 1 and a list of undirected edges \n",
    "(each edge is a pair of nodes), write a function to find the number of \n",
    "connected components in an undirected graph.\n",
    "\n",
    "Example 1:\n",
    "\n",
    "Input: n = 5 and edges = [[0, 1], [1, 2], [3, 4]]\n",
    "\n",
    "     0          3\n",
    "     |          |\n",
    "     1 --- 2    4\n",
    "\n",
    "Output: 2\n",
    "Example 2:\n",
    "\n",
    "Input: n = 5 and edges = [[0, 1], [1, 2], [2, 3], [3, 4]]\n",
    "\n",
    "     0           4\n",
    "     |           |\n",
    "     1 --- 2 --- 3\n",
    "\n",
    "Output:  1\n",
    "Note:\n",
    "You can assume that no duplicate edges will appear in edges. Since all edges \n",
    "are undirected, [0, 1] is the same as [1, 0] and thus will not appear together \n",
    "in edges.\n",
    "\"\"\""
   ]
  },
  {
   "cell_type": "code",
   "execution_count": 73,
   "id": "724f5832",
   "metadata": {},
   "outputs": [],
   "source": [
    "def connComp(n, edges):\n",
    "    if not n:\n",
    "        return 0\n",
    "    \n",
    "    lst = {i:[] for i in range(n)}\n",
    "    visited = set()\n",
    "    c = 0\n",
    "    \n",
    "    for n1, n2 in edges:\n",
    "        lst[n1].append(n2)\n",
    "    \n",
    "    def dfs(node):\n",
    "        if node in visited:\n",
    "            return False\n",
    "        visited.add(node)\n",
    "        for nbr in lst[node]:\n",
    "            if not dfs(node):\n",
    "                return False\n",
    "        return True\n",
    "    \n",
    "    for i in range(n):\n",
    "        if dfs(i):\n",
    "            c += 1\n",
    "    \n",
    "    return c\n",
    "    "
   ]
  },
  {
   "cell_type": "code",
   "execution_count": 76,
   "id": "e918e502",
   "metadata": {},
   "outputs": [
    {
     "data": {
      "text/plain": [
       "4"
      ]
     },
     "execution_count": 76,
     "metadata": {},
     "output_type": "execute_result"
    }
   ],
   "source": [
    "connComp(5, [[0, 1]])"
   ]
  },
  {
   "cell_type": "code",
   "execution_count": null,
   "id": "56577f42",
   "metadata": {},
   "outputs": [],
   "source": [
    "\"\"\"\n",
    "Millenium QR OS Prep\n",
    "\n",
    "- stat arb and back testing calculations\n",
    "\n",
    "- subsegment sort*\n",
    "- product defects, leetcode 221 max square*\n",
    "- queued seats*\n",
    "- shape class? (hash related?)\n",
    "\n",
    "- pandas dataframe, ordering, lambda, function，join ect*\n",
    "- datetime need to convert*\n",
    "- predict housing price, get rid of outliers, find similar sq ft to predict\n",
    "-> cook's distance to find outliers\n",
    "-> to choose features: look at the different of the effect on the target\n",
    "-> put explanatory variable in order and choose how many we want, \n",
    "\n",
    "- feature importance\n",
    "- t-testing: pearson's correlation for 2 values, categorical will be t-test, categorical to categorical use chi-squared test\n",
    "\n",
    "\n",
    "- Traditional algorithm questions. For a sequence A, find the largest sum in \n",
    "the subsequence that satisfies the following conditions. For each item in the \n",
    "subarray, their index and value in the original array satisfy j - i\n",
    "\n",
    "- calculate P&L, All data is stored in the dictionary, no pandas is used, \n",
    "so it is a bit awkward. The question is to calculate the profit and loss \n",
    "of the position on the last trading day. It seems that the \"last trading day\" \n",
    "of each stock is not the same (maybe there is a suspension of trading, \n",
    "to be confirmed), so I built a dictionary to store the \"last trading day\" \n",
    "corresponding to each stock. Trading Day\".*\n",
    "- Very long numpy/pandas question\n",
    "\n",
    "- DP question: Suppose the price change of a stock at T time points in the \n",
    "future is (P1, P2, P3, ..., PT). Each time we either 1) buy 1 share, \n",
    "2) sell n shares, n is less than or equal to the position.\n",
    "\n",
    "def calc_max_profit(prices):\n",
    "    T = len(prices)\n",
    "    MIN = -sum(prices)+1\n",
    "    dp = {(0,0): 0}\n",
    "    for t in range(1, T+1):\n",
    "        for q in range(t):\n",
    "            dp[(t,q)] = max([dp[(t-1,q+d)]+d*prices[t-1] for d in range(t-q)])\n",
    "            if q>=1:\n",
    "                dp[(t,q)] = max(dp[(t,q)], dp[(t-1, q-1)]-prices[t-1])\n",
    "        dp[(t,t)] = dp[(t-1, t-1)] - prices[t-1]\n",
    "    return dp[(T, 0)]\n",
    "\n",
    "- Do nothing. Calculate the optimal profit. \n",
    "I directly used iteration and passed all the test cases, \n",
    "so the question did not require space. Just remember to use a hash table\n",
    "\n",
    "- SQL\n",
    "\n",
    "- input is int n, print all permutations of the first n numbers*\n",
    "\n",
    "- at time t=0, we have a stock, worth p0; we need to liquidate the stock s.t. at time t=T, the value is pT, where p0>pT>0.\n",
    "\n",
    "1. Given two arrays nums and queries, for each value q in the queries, it is required to find the maximum number of occurrences of the subarry element starting from the q-th element to the end in nums, and put the result in the array and return it.\n",
    "e.g. nums = [4,3,3,1,2], queries = [1,2,3,4,5]\n",
    "When q = 1, the subarray is [4,3,3,1,2]. The largest number is 4, which appears once, so the first result is 1;\n",
    "When q = 2, the subarray is [3,3,1,2], and the largest number is 3, which appears twice, so the second result is 2;\n",
    "When q = 3, the subarray is [3,1,2], the largest number is 3, and it appears once, so the third result is 1;\n",
    "By analogy, the final result is [1,2,1,...]\n",
    "Traverse from back to front, when encountering a new number, if it is greater than the previous maximum value, update the maximum value, reset the number of occurrences to 1, and add 1 to the result; if it is equal to the previous maximum value, add 1 to the number of occurrences, and similarly reset the number of occurrences Add it to the result; if it is less than the maximum value, the number will not be updated and will be added directly to the result.\n",
    "\n",
    "4. Given an array and asked to reorder it, prioritize the numbers from least to most. If the numbers are the same, sort them by the size of the numbers, with the smaller ones in front. For example, [2,2,3,3,3,1,1] becomes [1,1,2,2,3,3,3]. It's also very simple. Just use python to directly create an element -> freq map, and then use sorted to sort the map.\n",
    "\n",
    "\n",
    "\"\"\""
   ]
  },
  {
   "cell_type": "code",
   "execution_count": null,
   "id": "f64b2af5",
   "metadata": {},
   "outputs": [],
   "source": [
    "\"\"\"\n",
    "Question —\n",
    "An array of n integers, arr[n] can be partitioned into any number of contiguous subsegments. Every element must present in exactly 1 partition.\n",
    "After partitioning, and without changing the order of partitions, sort each partition in non-descending order. Concatenate the sorted partitions and compare the resulting array to the original array, sorted non-descending. If the two match, the set of partitions is valid.\n",
    "Find the maximum number of contiguous subsegments in which the array arr can be partitioned such that the set of partitions is valid.\n",
    "\n",
    "Example\n",
    "n = 6\n",
    "arr = [2, 5, 1, 9, 7, 6]\n",
    "\n",
    "The array can be divided into 2 contiguous subsegments:\n",
    "Subsegments -> [2, 5, 1], [9, 7, 6]\n",
    "Sorted subsegments -> [1, 2, 5], [6, 7, 9]\n",
    "Final array -> [1, 2, 5, 6, 7, 9]\n",
    "As the final arr is sorted, 2 is a possible answer.\n",
    "\n",
    "2. The array can be divided into 3 contiguous subsegments:\n",
    "Subsegments -> [2, 5, 1], [9, 7], [6]\n",
    "Sorted Subsegments -> [1, 2, 5], [7, 9], [6]\n",
    "Final array -> [1, 2, 5, 7, 9, 6]\n",
    "As the combined arr is not sorted, 3 can’t be possible.\n",
    "\n",
    "\"\"\""
   ]
  },
  {
   "cell_type": "code",
   "execution_count": 1,
   "id": "43b9280e",
   "metadata": {},
   "outputs": [],
   "source": [
    "def maxChunksToSorted(arr):\n",
    "#       So the idea is that we initally set a max_so_far which is initally taken as the first ele of arr\n",
    "    \n",
    "#     secondly we are checking two things first if max_so_far < arr[i] if so then update max_so_far\n",
    "    \n",
    "#     and then we are checking that once the max_so_far has reached the index which is equal to it,\n",
    "    \n",
    "#     means that that if the maximum where it can be in a sorted arr or in other words that it is \n",
    "    \n",
    "#     the max it can impact. So we will incremnt the count and keep going that way.\n",
    "    \n",
    "#     THIS TECHNIQUE IS CALLED CHAIN TECHNIQUE  \n",
    "     \n",
    "    max_so_far = arr[0]\n",
    "    count = 0\n",
    "    \n",
    "    for i in range(len(arr)):\n",
    "        if max_so_far<arr[i]:\n",
    "            max_so_far = arr[i]\n",
    "            \n",
    "        if max_so_far == i:\n",
    "            count+=1\n",
    "            \n",
    "    return count"
   ]
  },
  {
   "cell_type": "code",
   "execution_count": 4,
   "id": "4e3944b7",
   "metadata": {},
   "outputs": [
    {
     "data": {
      "text/plain": [
       "4"
      ]
     },
     "execution_count": 4,
     "metadata": {},
     "output_type": "execute_result"
    }
   ],
   "source": [
    "maxChunksToSorted([1,0,2,3,4])"
   ]
  },
  {
   "cell_type": "code",
   "execution_count": null,
   "id": "c4937656",
   "metadata": {},
   "outputs": [],
   "source": [
    "# https://leetcode.com/problems/maximal-square/\n",
    "def maximalSquare():\n",
    "    \n",
    "     # Get the dimensions of the matrix\n",
    "        m, n = len(matrix), len(matrix[0])\n",
    "        \n",
    "        # Initialize the dp array\n",
    "        dp = [[0] * n for _ in range(m)]\n",
    "        \n",
    "        # Initialize the max size of the square seen so far\n",
    "        max_size = 0\n",
    "        \n",
    "        # Fill the dp array\n",
    "        for i in range(m):\n",
    "            for j in range(n):\n",
    "                if matrix[i][j] == '1':\n",
    "                    if i == 0 or j == 0:\n",
    "                        # First row or column, so the maximum size of the square is 1\n",
    "                        dp[i][j] = 1\n",
    "                    else:\n",
    "                        # Check the values of the cells to the left, top, and top-left of the current cell\n",
    "                        dp[i][j] = min(dp[i-1][j], dp[i][j-1], dp[i-1][j-1]) + 1\n",
    "                    \n",
    "                    # Update the max size of the square seen so far\n",
    "                    max_size = max(max_size, dp[i][j])\n",
    "        \n",
    "        # Return the area of the largest square\n",
    "        return max_size * max_size"
   ]
  },
  {
   "cell_type": "code",
   "execution_count": null,
   "id": "cb6dfdf6",
   "metadata": {},
   "outputs": [],
   "source": [
    "import pandas as pd\n",
    "from datetime import datetime\n",
    "\n",
    "# - pandas dataframe, ordering, lambda, function，join ect\n",
    "# - datetime need to convert\n",
    "\n",
    "df.sort_values(by='age')\n",
    "df['age']=df.apply(lambda x:x['age']+3, axis=1) # 1=col, 0=idx\n",
    "\n",
    "df['unit'] = df['unit'].astype('int')\n",
    "df[\"value\"] = df[[\"value\"]].multiply(df[\"unit\"], axis=\"index\")\n",
    "\n",
    "# https://www.digitalocean.com/community/tutorials/python-string-to-datetime-strptime\n",
    "datetime.strptime(datetime_str, '%m/%d/%y %H:%M:%S')\n",
    "datetime.strptime(date_str, '%m-%d-%Y').date()\n",
    "datetime.strptime(time_str, '%H::%M::%S').time()\n",
    "\n",
    "datetime.datetime(2012, 2, 23, 0, 0).strftime('%m/%d/%Y')\n"
   ]
  },
  {
   "cell_type": "code",
   "execution_count": null,
   "id": "f104d20b",
   "metadata": {},
   "outputs": [],
   "source": [
    "# pnl for last trading day for series of stocks\n",
    "def get_profit_per_stock():\n",
    "    activities = api.get_activities()\n",
    "    buys = []\n",
    "    sells = []\n",
    "    pnl_list = []\n",
    "\n",
    "    for each in activities:\n",
    "        symbol = each.symbol\n",
    "\n",
    "        # Create list of all the buys\n",
    "        if each.symbol == symbol and each.side == 'buy':\n",
    "            cash_spent = float(each.price) * float(each.qty)\n",
    "            buys.append((each.symbol, cash_spent))\n",
    "\n",
    "        # Create list of sells\n",
    "        if each.symbol == symbol and each.side == 'sell':\n",
    "            cash_taken = float(each.price) * float(each.qty)\n",
    "            sells.append((each.symbol, cash_taken))\n",
    "\n",
    "        # In case there are partial fills in the buys list this will merge them\n",
    "        d = {x: 0 for x, _ in buys}\n",
    "        for name, num in buys: d[name] += num\n",
    "        merged_buys = list(map(tuple, d.items()))\n",
    "\n",
    "        # In case there are partial fills in the sells list this will merge them\n",
    "        e = {x: 0 for x, _ in sells}\n",
    "        for name, num in sells: e[name] += num\n",
    "        merged_sells = list(map(tuple, e.items()))\n",
    "\n",
    "        # This is a list of tuples listing (symbol, total money spent on the buys, total money spent on the sells)\n",
    "        transaction_list = [x + y[1:] for x in merged_sells for y in merged_buys if x[0] == y[0]]\n",
    "\n",
    "        # This simply gives you the Profit/Loss for each symbol in the transaction list\n",
    "        for each in transaction_list:\n",
    "            symbol = each[0]\n",
    "            pnl = round(float(each[1]) - float(each[2]), 2)\n",
    "            pnl_list.append([symbol, pnl])\n",
    "\n",
    "        return pnl_list"
   ]
  },
  {
   "cell_type": "code",
   "execution_count": null,
   "id": "f995e7a5",
   "metadata": {},
   "outputs": [],
   "source": [
    "import pandas as pd\n",
    "from tabulate import tabulate\n",
    "import pytz\n",
    "import datetime as dt\n",
    "from datetime import date\n",
    "\n",
    "# pass the API and prevDays (0 for today, 1 since yesterday...)\n",
    "def report2(api, prevDays):\n",
    "    #\n",
    "    # get all closed orders and import them into a dataframe\n",
    "    #\n",
    "    orderTotal = 500\n",
    "    today = dt.date.today() - dt.timedelta(days=prevDays)\n",
    "    today = dt.datetime.combine(today, dt.datetime.min.time())\n",
    "    today = today.strftime(\"%Y-%m-%dT%H:%M:%SZ\")\n",
    "    #print(today)\n",
    "    orders = api.list_orders(status='all', limit=orderTotal, after=today)\n",
    "    if not orders:\n",
    "        return\n",
    "    dfOrders = pd.DataFrame()\n",
    "    for o in orders:\n",
    "        # convert dot notation to dict\n",
    "        d = vars(o)\n",
    "        # import dict into dataframe\n",
    "        df = pd.DataFrame.from_dict(d, orient='index')\n",
    "        # append to dataframe\n",
    "        dfOrders = dfOrders.append(df, ignore_index=True)\n",
    "\n",
    "    # select filled orders with buy or sell\n",
    "    dfSel = dfOrders\n",
    "    # choose a subset (use .copy() as we are slicing and to avoid warning)\n",
    "    dfSel = dfSel[['submitted_at', 'filled_at', 'symbol', 'filled_qty', 'side', 'type', 'filled_avg_price', 'status']].copy()\n",
    "\n",
    "    # convert filled_at to date\n",
    "    dfSel['submitted_at'] = pd.to_datetime(dfSel['submitted_at'], format=\"%Y-%m-%d %H:%M:%S\")\n",
    "    dfSel['filled_at']    = pd.to_datetime(dfSel['filled_at'], format=\"%Y-%m-%d %H:%M:%S\")\n",
    "    # convert to our timezone\n",
    "    dfSel['submitted_at'] = dfSel['submitted_at'].dt.tz_convert('America/New_York')\n",
    "    dfSel['filled_at']    = dfSel['filled_at'].dt.tz_convert('America/New_York')\n",
    "    # remove millis\n",
    "    dfSel['submitted_at'] = dfSel['submitted_at'].dt.strftime(\"%Y-%m-%d %H:%M:%S\")\n",
    "    dfSel['filled_at']    = dfSel['filled_at'].dt.strftime(\"%Y-%m-%d %H:%M:%S\")\n",
    "\n",
    "    # Sort: https://kanoki.org/2020/01/28/sort-pandas-dataframe-and-series/\n",
    "    # need to sort in order to perform the proper calculations\n",
    "    # sort based on the following sequence of types: market then limit, then stop_limit\n",
    "    dfSel['type'] = pd.Categorical(dfSel['type'], categories=[\"market\", \"limit\", \"stop_limit\"])\n",
    "    # sort first based on symbol, then type as per the list above, then submitted date\n",
    "    dfSel.sort_values(by=['symbol', 'submitted_at', 'type'], inplace=True, ascending=True)\n",
    "\n",
    "    # reset index\n",
    "    dfSel.reset_index(drop=True, inplace=True)\n",
    "    # drop the 'side' column\n",
    "    # dfProfit = dfSel.drop('side', 1)\n",
    "    dfProfit = dfSel\n",
    "    # add empty 'profit' column\n",
    "    dfProfit['profit'] = ''\n",
    "\n",
    "    totalProfit = 0.0\n",
    "    profitCnt   = 0\n",
    "    lossCnt     = 0\n",
    "    slCnt       = 0\n",
    "    ptCnt       = 0\n",
    "    trCnt       = 0\n",
    "    qty         = 0\n",
    "    profit      = 0\n",
    "    sign        = {'buy': -1, 'sell': 1}\n",
    "\n",
    "    # show header row\n",
    "    #print(tabulate(dfSel[:0], headers='keys', tablefmt='simple', showindex=False))\n",
    "\n",
    "    for index, row in dfSel.iterrows():\n",
    "        # show data row\n",
    "        #print(index, tabulate(dfSel[index:index+1], headers='', tablefmt='plain'))\n",
    "\n",
    "        # conditions:\n",
    "        # - buy/sell have the same symbol\n",
    "        # - a trade is considered if no new/held orders are still open\n",
    "        # - once qty is 0 a complete trade is confirmed and profit calculated\n",
    "        # - a filled_avg_price is not None\n",
    "\n",
    "        if index > 0:\n",
    "            if dfSel['symbol'][index - 1] != dfSel['symbol'][index]:\n",
    "                qty    = 0\n",
    "                profit = 0\n",
    "\n",
    "        if dfSel['status'][index] == 'held':\n",
    "            continue\n",
    "        if dfSel['status'][index] == 'new':\n",
    "            continue\n",
    "        if dfSel['filled_avg_price'][index] is None:\n",
    "            continue\n",
    "        if dfSel['filled_avg_price'][index] == '':\n",
    "            continue\n",
    "        if dfSel['filled_avg_price'][index] == 'None':\n",
    "            continue\n",
    "\n",
    "        #print(index, tabulate(dfSel[index:index+1], headers='', tablefmt='plain'))\n",
    "\n",
    "        side      = dfSel['side'][index]\n",
    "        filledQty = int(dfSel['filled_qty'][index]) * sign[side]\n",
    "        qty       = qty + filledQty\n",
    "        price     = float(dfSel['filled_avg_price'][index])\n",
    "        pl        = filledQty * price\n",
    "        profit    = profit + pl\n",
    "\n",
    "        #print(f\"{dfSel['symbol'][index]}: qty {filledQty} price {price} profit {profit:.3f}\")\n",
    "\n",
    "        if qty==0:\n",
    "            # complete trade\n",
    "            trCnt = trCnt + 1\n",
    "            # put the profit in its column\n",
    "            #dfProfit['profit'][index] = profit\n",
    "            dfProfit.loc[index, 'profit'] = round(profit, 2)\n",
    "            totalProfit = totalProfit + profit\n",
    "            if profit >= 0:\n",
    "                profitCnt = profitCnt + 1\n",
    "                if dfSel['type'][index] == 'limit':\n",
    "                    ptCnt = ptCnt + 1\n",
    "            else:\n",
    "                lossCnt = lossCnt + 1\n",
    "                if dfSel['type'][index] == 'stop_limit':\n",
    "                    slCnt = slCnt + 1\n",
    "            profit = 0\n",
    "\n",
    "    # append the total\n",
    "    dfProfit.loc[\"Total\", \"profit\"] = round(totalProfit, 2)  # dfProfit.profit.sum()\n",
    "\n",
    "    # print profit report\n",
    "    print(tabulate(dfProfit, headers='keys', tablefmt='simple', showindex=True, floatfmt=\".2f\"))\n",
    "    #print(dfProfit.to_string())\n",
    "\n",
    "    totalCnt = profitCnt + lossCnt\n",
    "    if totalCnt > 0:\n",
    "        ratio = profitCnt / totalCnt * 100.0\n",
    "        print('\\nProfits:', profitCnt)\n",
    "        print('Losses :'  , lossCnt)\n",
    "        print('Ratio  :'  , f'{ratio:.2f}%')\n",
    "        print('Trades :'  , trCnt)\n",
    "        print('Stops  :'  , slCnt)\n",
    "        print('Targets:'  , ptCnt)"
   ]
  },
  {
   "cell_type": "code",
   "execution_count": null,
   "id": "f5225ef1",
   "metadata": {},
   "outputs": [],
   "source": []
  },
  {
   "cell_type": "code",
   "execution_count": null,
   "id": "00d47e00",
   "metadata": {},
   "outputs": [],
   "source": []
  },
  {
   "cell_type": "code",
   "execution_count": 5,
   "id": "42e2880d",
   "metadata": {},
   "outputs": [
    {
     "data": {
      "image/png": "[encoded data removed]",
      "text/plain": [
       "<Figure size 1200x600 with 2 Axes>"
      ]
     },
     "metadata": {},
     "output_type": "display_data"
    }
   ],
   "source": [
    "# pairwise trading in chatgpt\n",
    "import pandas as pd\n",
    "import numpy as np\n",
    "import statsmodels.api as sm\n",
    "import matplotlib.pyplot as plt\n",
    "\n",
    "# Step 1: Data Preparation\n",
    "# Synthetic data generation for illustration purposes\n",
    "np.random.seed(42)\n",
    "dates = pd.date_range('2022-01-01', '2022-12-31', freq='B')\n",
    "instrument1 = np.cumsum(np.random.normal(0, 1, len(dates)))\n",
    "instrument2 = instrument1 + np.random.normal(0, 0.5, len(dates))\n",
    "\n",
    "data = pd.DataFrame({'Date': dates, 'Instrument1': instrument1, 'Instrument2': instrument2})\n",
    "data.set_index('Date', inplace=True)\n",
    "\n",
    "# Step 2: Pairs Selection\n",
    "# Perform cointegration test\n",
    "result = sm.OLS(data['Instrument2'], sm.add_constant(data['Instrument1'])).fit()\n",
    "beta = result.params['Instrument1']\n",
    "\n",
    "# Step 3: Strategy Design\n",
    "# Calculate spread and z-score\n",
    "spread = data['Instrument2'] - beta * data['Instrument1']\n",
    "z_score = (spread - spread.mean()) / spread.std()\n",
    "\n",
    "# Define entry and exit signals\n",
    "entry_threshold = 1.0\n",
    "exit_threshold = 0.0\n",
    "\n",
    "data['LongSignal'] = np.where(z_score < -entry_threshold, 1, 0)\n",
    "data['ShortSignal'] = np.where(z_score > entry_threshold, -1, 0)\n",
    "data['ExitSignal'] = np.where(np.abs(z_score) < exit_threshold, 0, 1)\n",
    "\n",
    "# Step 4: Backtesting\n",
    "# Simulate trading based on signals\n",
    "data['Position'] = data['LongSignal'] + data['ShortSignal']\n",
    "data['Position'] = data['Position'].shift(1)  # Shift to avoid lookahead bias\n",
    "\n",
    "data['Returns'] = data['Position'] * data['Instrument1'].pct_change()\n",
    "\n",
    "# Calculate cumulative returns\n",
    "data['CumulativeReturns'] = (1 + data['Returns']).cumprod()\n",
    "\n",
    "# Step 5: Risk Management (Position Sizing is a simplified example)\n",
    "capital = 100000\n",
    "risk_per_trade = 0.02  # 2% of capital per trade\n",
    "\n",
    "data['TradeRisk'] = data['ExitSignal'].shift(1) * risk_per_trade * capital\n",
    "data['PositionSize'] = data['TradeRisk'] / np.abs(data['Returns'])\n",
    "\n",
    "# Step 6: Analysis and Optimization (Sensitivity analysis is a simplified example)\n",
    "entry_thresholds = np.arange(0.5, 2.0, 0.1)\n",
    "returns_per_threshold = []\n",
    "\n",
    "for threshold in entry_thresholds:\n",
    "    data['LongSignal'] = np.where(z_score < -threshold, 1, 0)\n",
    "    data['ShortSignal'] = np.where(z_score > threshold, -1, 0)\n",
    "\n",
    "    data['Position'] = data['LongSignal'] + data['ShortSignal']\n",
    "    data['Position'] = data['Position'].shift(1)\n",
    "\n",
    "    data['Returns'] = data['Position'] * data['Instrument1'].pct_change()\n",
    "    data['CumulativeReturns'] = (1 + data['Returns']).cumprod()\n",
    "\n",
    "    returns_per_threshold.append(data['CumulativeReturns'][-1])\n",
    "\n",
    "# Step 7: Visualization\n",
    "plt.figure(figsize=(12, 6))\n",
    "\n",
    "# Plot spread and z-score\n",
    "plt.subplot(2, 1, 1)\n",
    "plt.plot(data.index, spread, label='Spread')\n",
    "plt.axhline(0, color='black', linestyle='--', linewidth=0.8)\n",
    "plt.title('Pairs Trading Spread and Z-Score')\n",
    "plt.legend()\n",
    "\n",
    "# Plot cumulative returns\n",
    "plt.subplot(2, 1, 2)\n",
    "plt.plot(data.index, data['CumulativeReturns'], label='Cumulative Returns', color='green')\n",
    "plt.title('Cumulative Returns')\n",
    "plt.legend()\n",
    "\n",
    "plt.show()"
   ]
  },
  {
   "cell_type": "code",
   "execution_count": null,
   "id": "f0c8ba11",
   "metadata": {},
   "outputs": [],
   "source": []
  },
  {
   "cell_type": "code",
   "execution_count": null,
   "id": "59e23281",
   "metadata": {},
   "outputs": [],
   "source": []
  },
  {
   "cell_type": "code",
   "execution_count": null,
   "id": "a0e4fa7a",
   "metadata": {},
   "outputs": [],
   "source": []
  },
  {
   "cell_type": "code",
   "execution_count": null,
   "id": "9b7f2465",
   "metadata": {},
   "outputs": [],
   "source": []
  }
 ],
 "metadata": {
  "kernelspec": {
   "display_name": "Python 3 (ipykernel)",
   "language": "python",
   "name": "python3"
  },
  "language_info": {
   "codemirror_mode": {
    "name": "ipython",
    "version": 3
   },
   "file_extension": ".py",
   "mimetype": "text/x-python",
   "name": "python",
   "nbconvert_exporter": "python",
   "pygments_lexer": "ipython3",
   "version": "3.10.9"
  }
 },
 "nbformat": 4,
 "nbformat_minor": 5
}
